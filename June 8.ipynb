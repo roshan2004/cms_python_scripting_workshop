{
 "cells": [
  {
   "cell_type": "code",
   "execution_count": 1,
   "metadata": {},
   "outputs": [],
   "source": [
    "import os\n",
    "import numpy"
   ]
  },
  {
   "cell_type": "code",
   "execution_count": 2,
   "metadata": {},
   "outputs": [],
   "source": [
    "file_location = os.path.join('data', 'water.xyz') #file path"
   ]
  },
  {
   "cell_type": "code",
   "execution_count": 6,
   "metadata": {},
   "outputs": [
    {
     "ename": "ValueError",
     "evalue": "Some errors were detected !\n    Line #2 (got 3 columns instead of 1)\n    Line #3 (got 4 columns instead of 1)\n    Line #4 (got 4 columns instead of 1)\n    Line #5 (got 4 columns instead of 1)",
     "output_type": "error",
     "traceback": [
      "\u001b[0;31m---------------------------------------------------------------------------\u001b[0m",
      "\u001b[0;31mValueError\u001b[0m                                Traceback (most recent call last)",
      "\u001b[0;32m<ipython-input-6-95dcfeb4f15f>\u001b[0m in \u001b[0;36m<module>\u001b[0;34m\u001b[0m\n\u001b[1;32m      1\u001b[0m \u001b[0;31m#Tabular data so\u001b[0m\u001b[0;34m\u001b[0m\u001b[0;34m\u001b[0m\u001b[0;34m\u001b[0m\u001b[0m\n\u001b[0;32m----> 2\u001b[0;31m \u001b[0mxyz_file\u001b[0m \u001b[0;34m=\u001b[0m \u001b[0mnumpy\u001b[0m\u001b[0;34m.\u001b[0m\u001b[0mgenfromtxt\u001b[0m\u001b[0;34m(\u001b[0m\u001b[0mfname\u001b[0m \u001b[0;34m=\u001b[0m \u001b[0mfile_location\u001b[0m\u001b[0;34m,\u001b[0m \u001b[0mdtype\u001b[0m \u001b[0;34m=\u001b[0m \u001b[0;34m'unicode'\u001b[0m\u001b[0;34m)\u001b[0m \u001b[0;31m#Mixed data type #got multiple (different)\u001b[0m\u001b[0;34m\u001b[0m\u001b[0;34m\u001b[0m\u001b[0m\n\u001b[0m\u001b[1;32m      3\u001b[0m \u001b[0;31m#columns , should have been one for first... and so on\u001b[0m\u001b[0;34m\u001b[0m\u001b[0;34m\u001b[0m\u001b[0;34m\u001b[0m\u001b[0m\n",
      "\u001b[0;32m~/anaconda3/lib/python3.8/site-packages/numpy/lib/npyio.py\u001b[0m in \u001b[0;36mgenfromtxt\u001b[0;34m(fname, dtype, comments, delimiter, skip_header, skip_footer, converters, missing_values, filling_values, usecols, names, excludelist, deletechars, replace_space, autostrip, case_sensitive, defaultfmt, unpack, usemask, loose, invalid_raise, max_rows, encoding, like)\u001b[0m\n\u001b[1;32m   2120\u001b[0m             \u001b[0;31m# Raise an exception ?\u001b[0m\u001b[0;34m\u001b[0m\u001b[0;34m\u001b[0m\u001b[0;34m\u001b[0m\u001b[0m\n\u001b[1;32m   2121\u001b[0m             \u001b[0;32mif\u001b[0m \u001b[0minvalid_raise\u001b[0m\u001b[0;34m:\u001b[0m\u001b[0;34m\u001b[0m\u001b[0;34m\u001b[0m\u001b[0m\n\u001b[0;32m-> 2122\u001b[0;31m                 \u001b[0;32mraise\u001b[0m \u001b[0mValueError\u001b[0m\u001b[0;34m(\u001b[0m\u001b[0merrmsg\u001b[0m\u001b[0;34m)\u001b[0m\u001b[0;34m\u001b[0m\u001b[0;34m\u001b[0m\u001b[0m\n\u001b[0m\u001b[1;32m   2123\u001b[0m             \u001b[0;31m# Issue a warning ?\u001b[0m\u001b[0;34m\u001b[0m\u001b[0;34m\u001b[0m\u001b[0;34m\u001b[0m\u001b[0m\n\u001b[1;32m   2124\u001b[0m             \u001b[0;32melse\u001b[0m\u001b[0;34m:\u001b[0m\u001b[0;34m\u001b[0m\u001b[0;34m\u001b[0m\u001b[0m\n",
      "\u001b[0;31mValueError\u001b[0m: Some errors were detected !\n    Line #2 (got 3 columns instead of 1)\n    Line #3 (got 4 columns instead of 1)\n    Line #4 (got 4 columns instead of 1)\n    Line #5 (got 4 columns instead of 1)"
     ]
    }
   ],
   "source": [
    "#Tabular data so\n",
    "xyz_file = numpy.genfromtxt(fname = file_location, dtype = 'unicode') #Mixed data type #got multiple (different)\n",
    "#columns , should have been one for first... and so on, expecting same number of columns for each row"
   ]
  },
  {
   "cell_type": "code",
   "execution_count": 7,
   "metadata": {},
   "outputs": [],
   "source": [
    "xyz_file = numpy.genfromtxt(fname = file_location, dtype = 'unicode', skip_header=2) "
   ]
  },
  {
   "cell_type": "code",
   "execution_count": 8,
   "metadata": {},
   "outputs": [
    {
     "data": {
      "text/plain": [
       "array([['O', '0.000000', '-0.007156', '0.965491'],\n",
       "       ['H1', '-0.000000', '0.001486', '-0.003471'],\n",
       "       ['H2', '0.000000', '0.931026', '1.207929']], dtype='<U9')"
      ]
     },
     "execution_count": 8,
     "metadata": {},
     "output_type": "execute_result"
    }
   ],
   "source": [
    "xyz_file"
   ]
  },
  {
   "cell_type": "code",
   "execution_count": 9,
   "metadata": {},
   "outputs": [
    {
     "name": "stdout",
     "output_type": "stream",
     "text": [
      "[['O' '0.000000' '-0.007156' '0.965491']\n",
      " ['H1' '-0.000000' '0.001486' '-0.003471']\n",
      " ['H2' '0.000000' '0.931026' '1.207929']]\n"
     ]
    }
   ],
   "source": [
    "print(xyz_file)"
   ]
  },
  {
   "cell_type": "code",
   "execution_count": 10,
   "metadata": {},
   "outputs": [],
   "source": [
    "symbols = xyz_file[:, 0]"
   ]
  },
  {
   "cell_type": "code",
   "execution_count": 11,
   "metadata": {},
   "outputs": [
    {
     "data": {
      "text/plain": [
       "array(['O', 'H1', 'H2'], dtype='<U9')"
      ]
     },
     "execution_count": 11,
     "metadata": {},
     "output_type": "execute_result"
    }
   ],
   "source": [
    "symbols"
   ]
  },
  {
   "cell_type": "code",
   "execution_count": 14,
   "metadata": {},
   "outputs": [],
   "source": [
    "coordinates = xyz_file[:, 1:]"
   ]
  },
  {
   "cell_type": "code",
   "execution_count": 15,
   "metadata": {},
   "outputs": [
    {
     "data": {
      "text/plain": [
       "array([['0.000000', '-0.007156', '0.965491'],\n",
       "       ['-0.000000', '0.001486', '-0.003471'],\n",
       "       ['0.000000', '0.931026', '1.207929']], dtype='<U9')"
      ]
     },
     "execution_count": 15,
     "metadata": {},
     "output_type": "execute_result"
    }
   ],
   "source": [
    "coordinates"
   ]
  },
  {
   "cell_type": "code",
   "execution_count": 19,
   "metadata": {},
   "outputs": [
    {
     "name": "stderr",
     "output_type": "stream",
     "text": [
      "<ipython-input-19-a3bbda50338e>:1: DeprecationWarning: `np.float` is a deprecated alias for the builtin `float`. To silence this warning, use `float` by itself. Doing this will not modify any behavior and is safe. If you specifically wanted the numpy scalar type, use `np.float64` here.\n",
      "Deprecated in NumPy 1.20; for more details and guidance: https://numpy.org/devdocs/release/1.20.0-notes.html#deprecations\n",
      "  coordinates = coordinates.astype(numpy.float) # Recasting coordinates as float\n"
     ]
    }
   ],
   "source": [
    "coordinates = coordinates.astype(numpy.float) # Recasting coordinates as float"
   ]
  },
  {
   "cell_type": "code",
   "execution_count": 20,
   "metadata": {},
   "outputs": [
    {
     "data": {
      "text/plain": [
       "array([[ 0.      , -0.007156,  0.965491],\n",
       "       [-0.      ,  0.001486, -0.003471],\n",
       "       [ 0.      ,  0.931026,  1.207929]])"
      ]
     },
     "execution_count": 20,
     "metadata": {},
     "output_type": "execute_result"
    }
   ],
   "source": [
    "coordinates"
   ]
  },
  {
   "cell_type": "code",
   "execution_count": 21,
   "metadata": {},
   "outputs": [
    {
     "data": {
      "text/plain": [
       "dtype('float64')"
      ]
     },
     "execution_count": 21,
     "metadata": {},
     "output_type": "execute_result"
    }
   ],
   "source": [
    "coordinates.dtype"
   ]
  },
  {
   "cell_type": "code",
   "execution_count": 22,
   "metadata": {},
   "outputs": [],
   "source": [
    "# One for loop to count over atom1 and another for loop to count over atom2\n",
    "# we need the number of atoms"
   ]
  },
  {
   "cell_type": "code",
   "execution_count": 23,
   "metadata": {},
   "outputs": [],
   "source": [
    "num_atoms = len(coordinates)"
   ]
  },
  {
   "cell_type": "code",
   "execution_count": 24,
   "metadata": {},
   "outputs": [
    {
     "data": {
      "text/plain": [
       "3"
      ]
     },
     "execution_count": 24,
     "metadata": {},
     "output_type": "execute_result"
    }
   ],
   "source": [
    "num_atoms"
   ]
  },
  {
   "cell_type": "code",
   "execution_count": 30,
   "metadata": {},
   "outputs": [
    {
     "name": "stdout",
     "output_type": "stream",
     "text": [
      "O to O : 0.000\n",
      "O to H1 : 0.969\n",
      "O to H2 : 0.969\n",
      "H1 to O : 0.969\n",
      "H1 to H1 : 0.000\n",
      "H1 to H2 : 1.527\n",
      "H2 to O : 0.969\n",
      "H2 to H1 : 1.527\n",
      "H2 to H2 : 0.000\n"
     ]
    }
   ],
   "source": [
    "for num1 in range(num_atoms):\n",
    "    for num2 in range(num_atoms): #print(num1, num2) 0 0 , 0 1, 0 2, 1 0, 1 1, 1 2, 2 0, 2 1, 2 2\n",
    "        x_distance = coordinates[num1, 0] - coordinates[num2, 0]# row number is atom number 1 or 2, x coordinate only on 0 index\n",
    "        y_distance = coordinates[num1, 1] - coordinates[num2, 1]\n",
    "        z_distance = coordinates[num1, 2] - coordinates[num2, 2]  \n",
    "        distance = numpy.sqrt(x_distance ** 2 + y_distance ** 2 + z_distance ** 2)\n",
    "        print(f'{symbols[num1]} to {symbols[num2]} : {distance:.3f}')\n",
    "        "
   ]
  },
  {
   "cell_type": "code",
   "execution_count": 31,
   "metadata": {},
   "outputs": [
    {
     "name": "stdout",
     "output_type": "stream",
     "text": [
      "O to H1 : 0.969\n",
      "O to H2 : 0.969\n",
      "H1 to O : 0.969\n",
      "H2 to O : 0.969\n"
     ]
    }
   ],
   "source": [
    "for num1 in range(num_atoms):\n",
    "    for num2 in range(num_atoms): #print(num1, num2) 0 0 , 0 1, 0 2, 1 0, 1 1, 1 2, 2 0, 2 1, 2 2\n",
    "        if num1 != num2:\n",
    "            x_distance = coordinates[num1, 0] - coordinates[num2, 0]# row number is atom number 1 or 2, x coordinate only on 0 index\n",
    "            y_distance = coordinates[num1, 1] - coordinates[num2, 1]\n",
    "            z_distance = coordinates[num1, 2] - coordinates[num2, 2]  \n",
    "            distance = numpy.sqrt(x_distance ** 2 + y_distance ** 2 + z_distance ** 2)\n",
    "            if distance < 1.5:\n",
    "                print(f'{symbols[num1]} to {symbols[num2]} : {distance:.3f}')\n",
    "        "
   ]
  },
  {
   "cell_type": "code",
   "execution_count": 38,
   "metadata": {},
   "outputs": [
    {
     "name": "stdout",
     "output_type": "stream",
     "text": [
      "O to H1 : 0.969\n",
      "O to H2 : 0.969\n"
     ]
    }
   ],
   "source": [
    "for num1 in range(num_atoms):\n",
    "    for num2 in range(num_atoms): #print(num1, num2) 0 0 , 0 1, 0 2, 1 0, 1 1, 1 2, 2 0, 2 1, 2 2\n",
    "        if num1 < num2:\n",
    "            x_distance = coordinates[num1, 0] - coordinates[num2, 0]# row number is atom number 1 or 2, x coordinate only on 0 index\n",
    "            y_distance = coordinates[num1, 1] - coordinates[num2, 1]\n",
    "            z_distance = coordinates[num1, 2] - coordinates[num2, 2]  \n",
    "            distance = numpy.sqrt(x_distance ** 2 + y_distance ** 2 + z_distance ** 2)\n",
    "            if distance < 1.5 and distance > 0:\n",
    "                \n",
    "                print(f'{symbols[num1]} to {symbols[num2]} : {distance:.3f}')\n",
    "        "
   ]
  },
  {
   "cell_type": "code",
   "execution_count": 35,
   "metadata": {},
   "outputs": [],
   "source": [
    "# O to H1 and O H1 to O are same,so\n",
    "# num1 < num2 check Look 0 1 and 0 2"
   ]
  },
  {
   "cell_type": "markdown",
   "metadata": {},
   "source": [
    "### Writing and using functions (refactoring, or rewriting the code to make it better)"
   ]
  },
  {
   "cell_type": "code",
   "execution_count": 39,
   "metadata": {},
   "outputs": [],
   "source": [
    "#def function_name(parameters):\n",
    "#    ** Body of your function **\n",
    "#    ** write code using the parameters to calculate something **\n",
    "    \n",
    "#    return value_to return\n",
    "    \n",
    "    \n",
    "    \n",
    "    \n",
    "    "
   ]
  },
  {
   "cell_type": "code",
   "execution_count": 45,
   "metadata": {},
   "outputs": [],
   "source": [
    "def calculate_distance(coords1, coords2):\n",
    "    x_distance = coords1[0] - coords2[0]\n",
    "    y_distance = coords1[1] - coords2[1]\n",
    "    z_distance = coords1[2] - coords2[2]\n",
    "    \n",
    "    distance = numpy.sqrt(x_distance ** 2 + y_distance ** 2 + z_distance ** 2)\n",
    "    return distance"
   ]
  },
  {
   "cell_type": "code",
   "execution_count": 46,
   "metadata": {},
   "outputs": [
    {
     "data": {
      "text/plain": [
       "1.0"
      ]
     },
     "execution_count": 46,
     "metadata": {},
     "output_type": "execute_result"
    }
   ],
   "source": [
    "calculate_distance([0,0,0], [0,0,1])"
   ]
  },
  {
   "cell_type": "code",
   "execution_count": 47,
   "metadata": {},
   "outputs": [
    {
     "data": {
      "text/plain": [
       "1.7320508075688772"
      ]
     },
     "execution_count": 47,
     "metadata": {},
     "output_type": "execute_result"
    }
   ],
   "source": [
    "calculate_distance([0,0,0], [1,1,1])"
   ]
  },
  {
   "cell_type": "code",
   "execution_count": 48,
   "metadata": {},
   "outputs": [
    {
     "name": "stdout",
     "output_type": "stream",
     "text": [
      "O to H1 : 0.969\n",
      "O to H2 : 0.969\n"
     ]
    }
   ],
   "source": [
    "for num1 in range(num_atoms):\n",
    "    for num2 in range(num_atoms): #print(num1, num2) 0 0 , 0 1, 0 2, 1 0, 1 1, 1 2, 2 0, 2 1, 2 2\n",
    "        if num1 < num2:\n",
    "            distance = calculate_distance(coordinates[num1], coordinates[num2])\n",
    "            \n",
    "            if distance < 1.5 and distance > 0:\n",
    "                \n",
    "                print(f'{symbols[num1]} to {symbols[num2]} : {distance:.3f}')\n",
    "        "
   ]
  },
  {
   "cell_type": "code",
   "execution_count": 49,
   "metadata": {},
   "outputs": [],
   "source": [
    "# write a code to check and see if a distance is a bond"
   ]
  },
  {
   "cell_type": "code",
   "execution_count": 56,
   "metadata": {},
   "outputs": [],
   "source": [
    "def bond_check(atom_distance):\n",
    "    if atom_distance > 0 and atom_distance < 1.5:\n",
    "        return True\n",
    "    else:\n",
    "        return False\n"
   ]
  },
  {
   "cell_type": "code",
   "execution_count": 57,
   "metadata": {},
   "outputs": [
    {
     "data": {
      "text/plain": [
       "False"
      ]
     },
     "execution_count": 57,
     "metadata": {},
     "output_type": "execute_result"
    }
   ],
   "source": [
    "bond_check(1.7)"
   ]
  },
  {
   "cell_type": "code",
   "execution_count": 58,
   "metadata": {},
   "outputs": [
    {
     "data": {
      "text/plain": [
       "True"
      ]
     },
     "execution_count": 58,
     "metadata": {},
     "output_type": "execute_result"
    }
   ],
   "source": [
    "bond_check(1.2)"
   ]
  },
  {
   "cell_type": "code",
   "execution_count": 61,
   "metadata": {},
   "outputs": [],
   "source": [
    "def bond_check(atom_distance):\n",
    "    minimum = float(input(\"Enter the minimum bond length \"))\n",
    "    maximum = float(input(\"Enter the maximum bond length \"))\n",
    "    if atom_distance > minimum and atom_distance < maximum:\n",
    "        return True\n",
    "    else:\n",
    "        return False\n"
   ]
  },
  {
   "cell_type": "code",
   "execution_count": 64,
   "metadata": {},
   "outputs": [
    {
     "name": "stdout",
     "output_type": "stream",
     "text": [
      "Enter the minimum bond length 0.3\n",
      "Enter the maximum bond length 1.1\n"
     ]
    },
    {
     "data": {
      "text/plain": [
       "False"
      ]
     },
     "execution_count": 64,
     "metadata": {},
     "output_type": "execute_result"
    }
   ],
   "source": [
    "bond_check(1.2)"
   ]
  },
  {
   "cell_type": "code",
   "execution_count": 68,
   "metadata": {},
   "outputs": [],
   "source": [
    "#This is the correct one\n",
    "def bond_check(atom_distance, minimum_length = 0, maximum_length = 1.5):\n",
    "   \n",
    "    if atom_distance > minimum_length and atom_distance < maximum_length:\n",
    "        return True\n",
    "    else:\n",
    "        return False\n"
   ]
  },
  {
   "cell_type": "code",
   "execution_count": 66,
   "metadata": {},
   "outputs": [
    {
     "data": {
      "text/plain": [
       "True"
      ]
     },
     "execution_count": 66,
     "metadata": {},
     "output_type": "execute_result"
    }
   ],
   "source": [
    "bond_check(1.2, 0.4, 2)"
   ]
  },
  {
   "cell_type": "code",
   "execution_count": 67,
   "metadata": {},
   "outputs": [
    {
     "data": {
      "text/plain": [
       "True"
      ]
     },
     "execution_count": 67,
     "metadata": {},
     "output_type": "execute_result"
    }
   ],
   "source": [
    "bond_check(1.7, 0, 2)"
   ]
  },
  {
   "cell_type": "code",
   "execution_count": 69,
   "metadata": {},
   "outputs": [
    {
     "data": {
      "text/plain": [
       "False"
      ]
     },
     "execution_count": 69,
     "metadata": {},
     "output_type": "execute_result"
    }
   ],
   "source": [
    "bond_check(1.7)"
   ]
  },
  {
   "cell_type": "code",
   "execution_count": 70,
   "metadata": {},
   "outputs": [
    {
     "data": {
      "text/plain": [
       "True"
      ]
     },
     "execution_count": 70,
     "metadata": {},
     "output_type": "execute_result"
    }
   ],
   "source": [
    "bond_check(1.7, maximum_length=2)"
   ]
  },
  {
   "cell_type": "code",
   "execution_count": 71,
   "metadata": {},
   "outputs": [],
   "source": [
    "#how users know what arguments, parameters"
   ]
  },
  {
   "cell_type": "code",
   "execution_count": 73,
   "metadata": {},
   "outputs": [
    {
     "name": "stdout",
     "output_type": "stream",
     "text": [
      "Help on function bond_check in module __main__:\n",
      "\n",
      "bond_check(atom_distance, minimum_length=0, maximum_length=1.5)\n",
      "    #This is the correct one\n",
      "\n"
     ]
    }
   ],
   "source": [
    "help(bond_check) # we did not write help for users, documentation"
   ]
  },
  {
   "cell_type": "code",
   "execution_count": 74,
   "metadata": {},
   "outputs": [],
   "source": [
    "#This is the correct one\n",
    "def bond_check(atom_distance, minimum_length = 0, maximum_length = 1.5):\n",
    "    \"\"\"\n",
    "    Checks if a distance is a bond based on a minimum and a maximum\n",
    "    Inputs : distance, minimum length for bond, maximum length for bond\n",
    "    Default: minimum : 0, maximum : 0\n",
    "    \n",
    "    \n",
    "    \"\"\"\n",
    "   \n",
    "    if atom_distance > minimum_length and atom_distance < maximum_length:\n",
    "        return True\n",
    "    else:\n",
    "        return False\n"
   ]
  },
  {
   "cell_type": "code",
   "execution_count": 75,
   "metadata": {},
   "outputs": [
    {
     "name": "stdout",
     "output_type": "stream",
     "text": [
      "Help on function bond_check in module __main__:\n",
      "\n",
      "bond_check(atom_distance, minimum_length=0, maximum_length=1.5)\n",
      "    Checks if a distance is a bond based on a minimum and a maximum\n",
      "    Inputs : distance, minimum length for bond, maximum length for bond\n",
      "    Default: minimum : 0, maximum : 0\n",
      "\n"
     ]
    }
   ],
   "source": [
    "help(bond_check)"
   ]
  },
  {
   "cell_type": "code",
   "execution_count": 77,
   "metadata": {},
   "outputs": [
    {
     "name": "stdout",
     "output_type": "stream",
     "text": [
      "O to H1 : 0.969\n",
      "O to H2 : 0.969\n"
     ]
    }
   ],
   "source": [
    "for num1 in range(num_atoms):\n",
    "    for num2 in range(num_atoms): #print(num1, num2) 0 0 , 0 1, 0 2, 1 0, 1 1, 1 2, 2 0, 2 1, 2 2\n",
    "        if num1 < num2:\n",
    "            distance = calculate_distance(coordinates[num1], coordinates[num2])\n",
    "            \n",
    "            if bond_check(distance) is True:\n",
    "                print(f'{symbols[num1]} to {symbols[num2]} : {distance:.3f}')\n",
    "        "
   ]
  },
  {
   "cell_type": "code",
   "execution_count": 78,
   "metadata": {},
   "outputs": [],
   "source": [
    "# write a new function called open_xyz that opens and processes the xyz file, \n",
    "# function should accept filepath (os path outside)"
   ]
  },
  {
   "cell_type": "code",
   "execution_count": 81,
   "metadata": {},
   "outputs": [],
   "source": [
    "def open_xyz(filepath):\n",
    "    xyz_file = numpy.genfromtxt(fname = filepath, dtype = 'unicode', skip_header=2) \n",
    "    symbols = xyz_file[:, 0]\n",
    "    coordinates = xyz_file[:, 1:]\n",
    "    coordinates = coordinates.astype(float)\n",
    "    return coordinates\n",
    "    "
   ]
  },
  {
   "cell_type": "code",
   "execution_count": 82,
   "metadata": {},
   "outputs": [
    {
     "data": {
      "text/plain": [
       "array([[ 0.      , -0.007156,  0.965491],\n",
       "       [-0.      ,  0.001486, -0.003471],\n",
       "       [ 0.      ,  0.931026,  1.207929]])"
      ]
     },
     "execution_count": 82,
     "metadata": {},
     "output_type": "execute_result"
    }
   ],
   "source": [
    "open_xyz(file_location)"
   ]
  },
  {
   "cell_type": "code",
   "execution_count": 87,
   "metadata": {},
   "outputs": [],
   "source": [
    "# Correct version\n",
    "def open_xyz(filename):\n",
    "    \"\"\"\n",
    "    This function opens a standard xyz file.\n",
    "    It returns the symbols as strings, and the coordinates as floats\n",
    "    \"\"\"\n",
    "    xyz_file = numpy.genfromtxt(fname = filename, dtype = 'unicode', skip_header=2) \n",
    "    symbols = xyz_file[:, 0]\n",
    "    coordinates = xyz_file[:, 1:]\n",
    "    coordinates = coordinates.astype(float)\n",
    "    return symbols, coordinates\n",
    "    "
   ]
  },
  {
   "cell_type": "code",
   "execution_count": 86,
   "metadata": {},
   "outputs": [
    {
     "data": {
      "text/plain": [
       "(array(['O', 'H1', 'H2'], dtype='<U9'),\n",
       " array([[ 0.      , -0.007156,  0.965491],\n",
       "        [-0.      ,  0.001486, -0.003471],\n",
       "        [ 0.      ,  0.931026,  1.207929]]))"
      ]
     },
     "execution_count": 86,
     "metadata": {},
     "output_type": "execute_result"
    }
   ],
   "source": [
    "open_xyz(file_location)"
   ]
  },
  {
   "cell_type": "code",
   "execution_count": 89,
   "metadata": {},
   "outputs": [
    {
     "name": "stdout",
     "output_type": "stream",
     "text": [
      "O to H1 : 0.9690005374652793\n",
      "O to H2 : 0.9690003348647513\n"
     ]
    }
   ],
   "source": [
    "#imports of library\n",
    "import os\n",
    "import numpy\n",
    "\n",
    "# Write all custom function definitions\n",
    "def calculate_distance(coords1, coords2):\n",
    "    x_distance = coords1[0] - coords2[0]\n",
    "    y_distance = coords1[1] - coords2[1]\n",
    "    z_distance = coords1[2] - coords2[2]\n",
    "    \n",
    "    distance = numpy.sqrt(x_distance ** 2 + y_distance ** 2 + z_distance ** 2)\n",
    "    return distance\n",
    "\n",
    "def bond_check(atom_distance, minimum_length = 0, maximum_length = 1.5):\n",
    "    \"\"\"\n",
    "    Checks if a distance is a bond based on a minimum and a maximum\n",
    "    Inputs : distance, minimum length for bond, maximum length for bond\n",
    "    Default: minimum : 0, maximum : 0\n",
    "    \n",
    "    \n",
    "    \"\"\"\n",
    "   \n",
    "    if atom_distance > minimum_length and atom_distance < maximum_length:\n",
    "        return True\n",
    "    else:\n",
    "        return False\n",
    "    \n",
    "def open_xyz(filename):\n",
    "    \"\"\"\n",
    "    This function opens a standard xyz file.\n",
    "    It returns the symbols as strings, and the coordinates as floats\n",
    "    \"\"\"\n",
    "    xyz_file = numpy.genfromtxt(fname = filename, dtype = 'unicode', skip_header=2) \n",
    "    symbols = xyz_file[:, 0]\n",
    "    coordinates = xyz_file[:, 1:]\n",
    "    coordinates = coordinates.astype(float)\n",
    "    return symbols, coordinates\n",
    "\n",
    "\n",
    "#Now, write coordinates\n",
    "\n",
    "file_location = os.path.join('data', 'water.xyz')\n",
    "\n",
    "symbols, coordinates = open_xyz(file_location)\n",
    "\n",
    "num_atoms = len(symbols)\n",
    "\n",
    "for num1 in range(num_atoms):\n",
    "    for num2 in range(num_atoms):\n",
    "         if num1 < num2:\n",
    "                distance = calculate_distance(coordinates[num1], coordinates[num2])\n",
    "                if bond_check(distance) is True:\n",
    "                    print(f'{symbols[num1]} to {symbols[num2]} : {distance}')\n",
    "                \n",
    "                \n",
    "\n",
    "\n",
    "\n",
    "\n"
   ]
  },
  {
   "cell_type": "code",
   "execution_count": null,
   "metadata": {},
   "outputs": [],
   "source": []
  }
 ],
 "metadata": {
  "kernelspec": {
   "display_name": "Python 3",
   "language": "python",
   "name": "python3"
  },
  "language_info": {
   "codemirror_mode": {
    "name": "ipython",
    "version": 3
   },
   "file_extension": ".py",
   "mimetype": "text/x-python",
   "name": "python",
   "nbconvert_exporter": "python",
   "pygments_lexer": "ipython3",
   "version": "3.8.5"
  }
 },
 "nbformat": 4,
 "nbformat_minor": 4
}
